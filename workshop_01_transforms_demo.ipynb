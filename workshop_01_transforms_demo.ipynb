{
  "nbformat": 4,
  "nbformat_minor": 0,
  "metadata": {
    "colab": {
      "name": "workshop_01_transforms_demo.ipynb",
      "provenance": [],
      "collapsed_sections": []
    },
    "kernelspec": {
      "name": "python3",
      "display_name": "Python 3"
    },
    "language_info": {
      "name": "python"
    }
  },
  "cells": [
    {
      "cell_type": "markdown",
      "metadata": {
        "id": "QgjTDFn2CaiI"
      },
      "source": [
        "# Workshop 01: Image Transforms Demo\n",
        "\n",
        "[![Open In Colab <](https://colab.research.google.com/assets/colab-badge.svg)](https://colab.research.google.com/github/ShawnHymel/ei-workshop-image-data-augmentation/blob/master/workshop_01_transforms_demo.ipynb)\n",
        "\n",
        "Run this notebook to see some common image transforms that can be used to create an augmented dataset.The first few cells will download an example image from the electronics components dataset.\n",
        "\n",
        "Author: EdgeImpulse, Inc.<br>\n",
        "Modified by: Shawn Hymel<br>\n",
        "Date: September 22, 2021<br>\n",
        "License: [Apache-2.0](apache.org/licenses/LICENSE-2.0)<br>"
      ]
    },
    {
      "cell_type": "code",
      "metadata": {
        "id": "f-TUtOVrCaEc"
      },
      "source": [
        "import numpy as np\n",
        "import matplotlib.pyplot as plt\n",
        "import random\n",
        "import os\n",
        "import PIL\n",
        "import requests\n",
        "from io import BytesIO\n",
        "\n",
        "import skimage.transform\n",
        "import skimage.util"
      ],
      "execution_count": null,
      "outputs": []
    },
    {
      "cell_type": "code",
      "metadata": {
        "id": "Fwmy4qfjCVGM"
      },
      "source": [
        "### Settings\n",
        "\n",
        "# Location of image\n",
        "IMG_URL = \"https://github.com/ShawnHymel/ei-workshop-image-data-augmentation/raw/master/Images/0.png\"\n",
        "\n",
        "# You are welcome to change the seed to get different augmentation effects\n",
        "SEED = 42\n",
        "random.seed(SEED)"
      ],
      "execution_count": null,
      "outputs": []
    },
    {
      "cell_type": "code",
      "metadata": {
        "id": "5qqaFTtMDBax"
      },
      "source": [
        "### Load image as Numpy array\n",
        "\n",
        "# Download and open image\n",
        "response = requests.get(IMG_URL)\n",
        "img = PIL.Image.open(BytesIO(response.content))\n",
        "\n",
        "# Convert the image to a Numpy array, optionally invert, and append to X\n",
        "img = np.asarray(img)"
      ],
      "execution_count": null,
      "outputs": []
    },
    {
      "cell_type": "code",
      "metadata": {
        "id": "YyMLjPl2WMIv"
      },
      "source": [
        "### Get height and width of image\n",
        "height = img.shape[0]\n",
        "width = img.shape[1]"
      ],
      "execution_count": null,
      "outputs": []
    },
    {
      "cell_type": "code",
      "metadata": {
        "id": "PePFpRg-H61C"
      },
      "source": [
        "### View the image\n",
        "\n",
        "# Print part of image\n",
        "print(img.shape)\n",
        "print(\"First channel:\")\n",
        "print(img[:,:,0])\n",
        "\n",
        "# Display image from array\n",
        "plt.imshow(img, vmin=0, vmax=255)"
      ],
      "execution_count": null,
      "outputs": []
    },
    {
      "cell_type": "code",
      "metadata": {
        "id": "-AHhkhwJJd22"
      },
      "source": [
        "### Flip \n",
        "\n",
        "# Create three separate flips\n",
        "flip_1 = np.fliplr(img)\n",
        "flip_2 = np.flipud(img)\n",
        "flip_3 = np.flipud(np.fliplr(img))\n",
        "\n",
        "# Show the original and the transforms\n",
        "figs, axs = plt.subplots(1, 4, figsize=(14, 14))\n",
        "axs[0].imshow(img, vmin=0, vmax=255)\n",
        "axs[1].imshow(flip_1, vmin=0, vmax=255)\n",
        "axs[2].imshow(flip_2, vmin=0, vmax=255)\n",
        "axs[3].imshow(flip_3, vmin=0, vmax=255)"
      ],
      "execution_count": null,
      "outputs": []
    },
    {
      "cell_type": "code",
      "metadata": {
        "id": "pjl7umnwJklU"
      },
      "source": [
        "### Rotate\n",
        "\n",
        "# Create 3 rotations at the 45, 90, 135. Note that rotate() normalizes values, so we need to keep\n",
        "# them in the 0..255 integer range.\n",
        "rot_1 = skimage.transform.rotate(img, angle=45, mode='edge', preserve_range=True).astype(np.uint8)\n",
        "rot_2 = skimage.transform.rotate(img, angle=90, mode='edge', preserve_range=True).astype(np.uint8)\n",
        "rot_3 = skimage.transform.rotate(img, angle=135, mode='edge', preserve_range=True).astype(np.uint8)\n",
        "\n",
        "# Show the original and the transforms\n",
        "figs, axs = plt.subplots(1, 4, figsize=(14, 14))\n",
        "axs[0].imshow(img, vmin=0, vmax=255)\n",
        "axs[1].imshow(rot_1, vmin=0, vmax=255)\n",
        "axs[2].imshow(rot_2, vmin=0, vmax=255)\n",
        "axs[3].imshow(rot_3, vmin=0, vmax=255)"
      ],
      "execution_count": null,
      "outputs": []
    },
    {
      "cell_type": "code",
      "metadata": {
        "id": "Or2dnU_zMZgR"
      },
      "source": [
        "### Scale and randomly crop\n",
        "\n",
        "# Choose a scale/crop factor (must be >= 1.0)\n",
        "scale_factor = 1.3\n",
        "\n",
        "# Create scaled images (e.g. make the image bigger)\n",
        "img_scaled = skimage.transform.rescale(img, \n",
        "                                       scale=scale_factor, \n",
        "                                       anti_aliasing=True, \n",
        "                                       multichannel=True,\n",
        "                                       preserve_range=True)\n",
        "\n",
        "# Make sure new scaled image is also 8-bit integer values\n",
        "img_scaled = img_scaled.astype(np.uint8)\n",
        "\n",
        "# Get height and width of scaled image\n",
        "s_h = img_scaled.shape[0]\n",
        "s_w = img_scaled.shape[1]\n",
        "\n",
        "# Randomly choose start of crop point\n",
        "crop_y = round(random.random() * (s_h - height))\n",
        "crop_x = round(random.random() * (s_w - width))\n",
        "\n",
        "# Crop scaled image\n",
        "scale_1 = img_scaled[crop_y:(crop_y + height), crop_x:(crop_x + width), :]\n",
        "\n",
        "# Randomly choose a different crop point\n",
        "crop_y = round(random.random() * (s_h - height))\n",
        "crop_x = round(random.random() * (s_w - width))\n",
        "\n",
        "# Crop scaled image\n",
        "scale_2 = img_scaled[crop_y:(crop_y + height), crop_x:(crop_x + width), :]\n",
        "\n",
        "# Show the original and the transforms\n",
        "figs, axs = plt.subplots(1, 3, figsize=(10, 10))\n",
        "axs[0].imshow(img, vmin=0, vmax=255)\n",
        "axs[1].imshow(scale_1, vmin=0, vmax=255)\n",
        "axs[2].imshow(scale_2, vmin=0, vmax=255)"
      ],
      "execution_count": null,
      "outputs": []
    },
    {
      "cell_type": "code",
      "metadata": {
        "id": "z1VFK8iSWayg"
      },
      "source": [
        "### Translation\n",
        "\n",
        "# Choose random amount to translate (up to 1/4 image width, height) in either direction\n",
        "tr_y = round((0.5 - random.random()) * (height / 2))\n",
        "tr_x = round((0.5 - random.random()) * (width / 2))\n",
        "\n",
        "# Perform translation to create new image\n",
        "translation = skimage.transform.AffineTransform(translation=(tr_y, tr_x))\n",
        "tr_1 = skimage.transform.warp(img, translation, mode='edge', preserve_range=True)\n",
        "tr_1 = tr_1.astype(np.uint8)\n",
        "\n",
        "# Choose a new random amount to translate (up to 1/4 image width, height) in either direction\n",
        "tr_y = round((0.5 - random.random()) * (height / 2))\n",
        "tr_x = round((0.5 - random.random()) * (width / 2))\n",
        "\n",
        "# Perform translation to create new image\n",
        "translation = skimage.transform.AffineTransform(translation=(tr_y, tr_x))\n",
        "tr_2 = skimage.transform.warp(img, translation, mode='edge', preserve_range=True)\n",
        "tr_2 = tr_2.astype(np.uint8)\n",
        "\n",
        "# Show the original and the transforms\n",
        "figs, axs = plt.subplots(1, 3, figsize=(10, 10))\n",
        "axs[0].imshow(img, vmin=0, vmax=255)\n",
        "axs[1].imshow(tr_1, vmin=0, vmax=255)\n",
        "axs[2].imshow(tr_2, vmin=0, vmax=255)"
      ],
      "execution_count": null,
      "outputs": []
    },
    {
      "cell_type": "code",
      "metadata": {
        "id": "lQJp30OJbHBd"
      },
      "source": [
        "### Noise\n",
        "\n",
        "# Add random Gaussian noise\n",
        "noise_1 = skimage.util.random_noise(img, mode='gaussian', seed=SEED)\n",
        "noise_1 = (noise_1 * 255).astype(np.uint8)\n",
        "\n",
        "# Add random \"salt and pepper\" noise\n",
        "noise_2 = skimage.util.random_noise(img, mode='s&p', seed=SEED)\n",
        "noise_2 = (noise_2 * 255).astype(np.uint8)\n",
        "\n",
        "# Show the original and the transforms\n",
        "figs, axs = plt.subplots(1, 3, figsize=(10, 10))\n",
        "axs[0].imshow(img, vmin=0, vmax=255)\n",
        "axs[1].imshow(noise_1, vmin=0, vmax=255)\n",
        "axs[2].imshow(noise_2, vmin=0, vmax=255)"
      ],
      "execution_count": null,
      "outputs": []
    }
  ]
}