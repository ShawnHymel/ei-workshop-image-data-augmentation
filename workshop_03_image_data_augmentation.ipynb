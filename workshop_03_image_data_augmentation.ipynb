{
  "nbformat": 4,
  "nbformat_minor": 0,
  "metadata": {
    "colab": {
      "name": "workshop_03_image_data_augmentation.ipynb",
      "provenance": [],
      "collapsed_sections": []
    },
    "kernelspec": {
      "name": "python3",
      "display_name": "Python 3"
    },
    "language_info": {
      "name": "python"
    }
  },
  "cells": [
    {
      "cell_type": "markdown",
      "metadata": {
        "id": "32-zMt7tZr3R"
      },
      "source": [
        "# Workshop 03: Image Data Augmentation\n",
        "\n",
        "[![Open In Colab <](https://colab.research.google.com/assets/colab-badge.svg)](https://colab.research.google.com/github/ShawnHymel/ei-workshop-image-data-augmentation/blob/master/workshop_03_image_data_augmentation.ipynb)\n",
        "\n",
        "Script for creating an augmented image dataset. It will transform input images to create a series of augmented samples that are saved in a new output directory.\n",
        "\n",
        "The first few cells will download an example dataset (electronic components) and create a folder named \"dataset\" in the /content directory. The images will be divided into their respective classes, where each class has its own folder with the name of the class. For example:\n",
        "\n",
        "<pre>\n",
        "/content\n",
        "    |- dataset\n",
        "        |- background\n",
        "        |- capacitor\n",
        "        |- diode\n",
        "        |- led\n",
        "        |- resistor\n",
        "</pre>\n",
        "\n",
        "The original images along with their transforms will be saved in the output directory. Each output file will be the original filename appended with \"_{num}\" where {num} is some incrementing value based on the total number of transforms performed per image.\n",
        "\n",
        "For example, if you have a file named \"0.png\" in /content/dataset/resistor, it will become \"0_0.png\" in /content/output/resistor. The first transform will be \"0_1.png\", the second transform will be \"0_2.png\" and so on.\n",
        "\n",
        "Run each of the cells paying attention to their contents and output. Fill out the necessary parts of the functions where you find the following comment:\n",
        "\n",
        "```\n",
        "# >>> ENTER YOUR CODE HERE <<<\n",
        "```\n",
        "\n",
        "Author: EdgeImpulse, Inc.<br>\n",
        "Modified by: Shawn Hymel<br>\n",
        "Date: September 22, 2021<br>\n",
        "License: [Apache-2.0](apache.org/licenses/LICENSE-2.0)<br>"
      ]
    },
    {
      "cell_type": "code",
      "metadata": {
        "id": "9RTimcB-ZoIT"
      },
      "source": [
        "import numpy as np\n",
        "import matplotlib.pyplot as plt\n",
        "import random\n",
        "import os\n",
        "import PIL\n",
        "\n",
        "import skimage.transform\n",
        "import skimage.util"
      ],
      "execution_count": null,
      "outputs": []
    },
    {
      "cell_type": "code",
      "metadata": {
        "id": "8zJCNZmEaCCN"
      },
      "source": [
        "### Settings\n",
        "\n",
        "# Location of dataset and output folder\n",
        "DATASET_URL = \"https://github.com/ShawnHymel/ei-workshop-image-data-augmentation/blob/master/Datasets/electronic-components-png.zip?raw=true\"\n",
        "DOWNLOAD_PATH = \"/content/electronic-components-png\"\n",
        "DATASET_PATH = \"/content/dataset\"\n",
        "OUT_PATH = \"/content/output\"\n",
        "OUT_ZIP = \"augmented_dataset.zip\"\n",
        "\n",
        "# File format to use for new dataset\n",
        "IMG_EXT = \".png\"\n",
        "\n",
        "# You are welcome to change the seed to get different augmentation effects\n",
        "SEED = 42\n",
        "random.seed(SEED)"
      ],
      "execution_count": null,
      "outputs": []
    },
    {
      "cell_type": "code",
      "metadata": {
        "id": "Yc6KPjfKG5c2"
      },
      "source": [
        "### Download and unzip original dataset (use '!' to call Linux commands)\n",
        "!wget \"{DATASET_URL}\" -O temp.zip\n",
        "!unzip -q temp.zip\n",
        "!rm temp.zip\n",
        "!mv \"{DOWNLOAD_PATH}\" \"{DATASET_PATH}\""
      ],
      "execution_count": null,
      "outputs": []
    },
    {
      "cell_type": "code",
      "metadata": {
        "id": "siLr8t4-qR9K"
      },
      "source": [
        "### Create output directory\n",
        "try:\n",
        "  os.makedirs(OUT_PATH)\n",
        "except FileExistsError:\n",
        "  print(\"WARNING: Output directory already exists. Check to make sure it is empty.\")"
      ],
      "execution_count": null,
      "outputs": []
    },
    {
      "cell_type": "markdown",
      "metadata": {
        "id": "whaPoHyc6-hb"
      },
      "source": [
        "## Transform Functions\n",
        "\n",
        "Use these functions to create transformed copies of your images. Supply a raw image (Numpy array) along with other arguments to get a list of output image copies. Call these functions to create your augmented dataset"
      ]
    },
    {
      "cell_type": "markdown",
      "metadata": {
        "id": "KAZYWLFeB9vR"
      },
      "source": [
        "### Flip Images\n",
        "Create 3 new flipped copies of the input image"
      ]
    },
    {
      "cell_type": "code",
      "metadata": {
        "id": "kxh8f4JXgnTa"
      },
      "source": [
        "def create_flipped(img):\n",
        "  \"\"\"Creates 3 copies of the input image that are flipped along x and y dimensions.\n",
        "\n",
        "  Parameters\n",
        "  ----------\n",
        "  img : ndarray\n",
        "    3D array containing raw image data (3 color channels) with `int` type.\n",
        "\n",
        "  Returns\n",
        "  -------\n",
        "  list\n",
        "    A list of ndarray images\n",
        "\n",
        "  Examples\n",
        "  --------\n",
        "  >>> flipped_img_list = create_flipped(img)\n",
        "  >>> print(len(flipped_img_list))\n",
        "  3\n",
        "\n",
        "  \"\"\"\n",
        "\n",
        "  # Create a list of flipped images\n",
        "  flipped = []\n",
        "  flipped.append(np.fliplr(img))\n",
        "  flipped.append(np.flipud(img))\n",
        "  flipped.append(np.flipud(np.fliplr(img)))\n",
        "\n",
        "  return flipped"
      ],
      "execution_count": null,
      "outputs": []
    },
    {
      "cell_type": "markdown",
      "metadata": {
        "id": "ll0befm77U2l"
      },
      "source": [
        "### Rotate Images\n",
        "\n",
        "Create a number of rotated copies of the input image. `rotations` should be a list of rotation angles (e.g. 0..360)."
      ]
    },
    {
      "cell_type": "code",
      "metadata": {
        "id": "96_3m50XhDww"
      },
      "source": [
        "def create_rotated(img, rotations):\n",
        "  \"\"\"Creates copies of input image (img) that have been rotated (given by the list `rotations`).\n",
        "\n",
        "  Parameters\n",
        "  ----------\n",
        "  img : ndarray\n",
        "    3D array containing raw image data (3 color channels) with `int` type.\n",
        "  rotations : list of float\n",
        "    List of rotations (counter-clockwise direction).\n",
        "\n",
        "  Returns\n",
        "  -------\n",
        "  list\n",
        "    A list of ndarray images\n",
        "\n",
        "  Examples\n",
        "  --------\n",
        "  >>> rotated_img_list = create_rotated(img, [45, 90, 135])\n",
        "  >>> print(len(rotated_img_list))\n",
        "  3\n",
        "\n",
        "  \"\"\"\n",
        "\n",
        "  # Create list of rotated images (keep 8-bit values)\n",
        "  rotated = []\n",
        "  for rot in rotations:\n",
        "    img_rot = skimage.transform.rotate(img, angle=rot, mode='edge', preserve_range=True)\n",
        "    img_rot = img_rot.astype(np.uint8)\n",
        "    rotated.append(img_rot)\n",
        "\n",
        "  return rotated"
      ],
      "execution_count": null,
      "outputs": []
    },
    {
      "cell_type": "markdown",
      "metadata": {
        "id": "kx6r62bZ71Px"
      },
      "source": [
        "### Random Zooms\n",
        "\n",
        "Create copies of image that has been zoomed and cropped `num_crops` number of times."
      ]
    },
    {
      "cell_type": "code",
      "metadata": {
        "id": "GNmLBQtmg9rT"
      },
      "source": [
        "def create_random_zooms(img, scale_factor, num_crops):\n",
        "  \"\"\"Creates copies of zoom and random crops of original image.\n",
        "\n",
        "  Parameters\n",
        "  ----------\n",
        "  img : ndarray\n",
        "    3D array containing raw image data (3 color channels) with `int` type.\n",
        "  scale_factor : float\n",
        "    Scale factor of original image (e.g. 1.5 for 1.5x zoom).\n",
        "  num_crops : int\n",
        "    Number of random crops to produce after scaling the image.\n",
        "\n",
        "  Returns\n",
        "  -------\n",
        "  list\n",
        "    A list of ndarray images\n",
        "\n",
        "  Examples\n",
        "  --------\n",
        "  >>> cropped_img_list = create_random_zooms(img, 1.3, 2)\n",
        "  >>> print(len(cropped_img_list))\n",
        "  2\n",
        "\n",
        "  \"\"\"\n",
        "\n",
        "  # Get height and width of original image\n",
        "  height = img.shape[0]\n",
        "  width = img.shape[1]\n",
        "\n",
        "  # Create scaled images (e.g. make the image bigger) and keep 8-bit values\n",
        "  img_scaled = skimage.transform.rescale(img, \n",
        "                                        scale=scale_factor, \n",
        "                                        anti_aliasing=True, \n",
        "                                        multichannel=True,\n",
        "                                        preserve_range=True)\n",
        "  img_scaled = img_scaled.astype(np.uint8)\n",
        "\n",
        "  # Get height and width of scaled image\n",
        "  s_h = img_scaled.shape[0]\n",
        "  s_w = img_scaled.shape[1]\n",
        "\n",
        "  # Create list of random zooms\n",
        "  zooms = []\n",
        "  for i in range(num_crops):\n",
        "    \n",
        "    # Randomly choose start of crop point\n",
        "    crop_y = round(random.random() * (s_h - height))\n",
        "    crop_x = round(random.random() * (s_w - width))\n",
        "\n",
        "    # Crop scaled image\n",
        "    zoom = img_scaled[crop_y:(crop_y + height), crop_x:(crop_x + width), :]\n",
        "\n",
        "    # Append zoomed image to list\n",
        "    zooms.append(zoom)\n",
        "\n",
        "  return zooms"
      ],
      "execution_count": null,
      "outputs": []
    },
    {
      "cell_type": "markdown",
      "metadata": {
        "id": "7L2valot9Uvu"
      },
      "source": [
        "### Random Translations\n",
        "Create `num_translations` number of copies of input image that have been randomly translated (i.e. moved) up to 25% of original width or hieght."
      ]
    },
    {
      "cell_type": "code",
      "metadata": {
        "id": "b55wy1q69-xY"
      },
      "source": [
        "def create_random_translations(img, num_translations):\n",
        "  \"\"\"Creates copies of random translations of original image.\n",
        "\n",
        "  Parameters\n",
        "  ----------\n",
        "  img : ndarray\n",
        "    3D array containing raw image data (3 color channels) with `int` type.\n",
        "  num_translations : int\n",
        "    Number of random translations to produce.\n",
        "\n",
        "  Returns\n",
        "  -------\n",
        "  list\n",
        "    A list of ndarray images\n",
        "\n",
        "  Examples\n",
        "  --------\n",
        "  >>> cropped_img_list = create_random_translations(img, 2)\n",
        "  >>> print(len(cropped_img_list))\n",
        "  2\n",
        "\n",
        "  \"\"\"\n",
        "\n",
        "  # Get height and width of original image\n",
        "  height = img.shape[0]\n",
        "  width = img.shape[1]\n",
        "\n",
        "  # Create list of random translations\n",
        "  translations = []\n",
        "  for i in range(num_translations):\n",
        "  \n",
        "    # Choose random amount to translate (up to 1/4 image width, height) in either direction\n",
        "    tr_y = round((0.5 - random.random()) * (height / 2))\n",
        "    tr_x = round((0.5 - random.random()) * (width / 2))\n",
        "\n",
        "    # Perform translation to create new image\n",
        "    translation = skimage.transform.AffineTransform(translation=(tr_y, tr_x))\n",
        "    img_tr = skimage.transform.warp(img, translation, mode='edge', preserve_range=True)\n",
        "    img_tr = img_tr.astype(np.uint8)\n",
        "\n",
        "    # Append translated image to list\n",
        "    translations.append(img_tr)\n",
        "\n",
        "  return translations"
      ],
      "execution_count": null,
      "outputs": []
    },
    {
      "cell_type": "markdown",
      "metadata": {
        "id": "o-h4gRGe9qDU"
      },
      "source": [
        "### Add Noise\n",
        "**TO BE IMPLEMENTED BY STUDENT**"
      ]
    },
    {
      "cell_type": "code",
      "metadata": {
        "id": "Ad0IR6Pc_n9b"
      },
      "source": [
        "# >>>ENTER YOUR CODE HERE<<<"
      ],
      "execution_count": null,
      "outputs": []
    },
    {
      "cell_type": "markdown",
      "metadata": {
        "id": "vaJR7hAOCEID"
      },
      "source": [
        "## Do Transforms\n",
        "\n",
        "Call your functions to create a set of augmented data."
      ]
    },
    {
      "cell_type": "code",
      "metadata": {
        "id": "J9ryKQeQaOKE"
      },
      "source": [
        "### Function to open image and create a list of new transforms\n",
        "# NOTE: You will need to call your transform functions here!\n",
        "def create_transforms(file_path):\n",
        "\n",
        "  # Open the image\n",
        "  img = PIL.Image.open(file_path)\n",
        "\n",
        "  # Convert the image to a Numpy array (keep all color channels)\n",
        "  img_array = np.asarray(img)\n",
        "\n",
        "  # Add original image to front of list\n",
        "  img_tfs = []\n",
        "  img_tfs.append([img_array])\n",
        "\n",
        "  # Example: Perform transforms (call your transform functions)\n",
        "  img_tfs.append(create_flipped(img_array))\n",
        "\n",
        "  # Call other transform functions (continue to append output to img_tfs)\n",
        "  # >>>ENTER YOUR CODE HERE<<<\n",
        "\n",
        "  # Flatten list of lists (to create one long list of images)\n",
        "  img_tfs = [img for img_list in img_tfs for img in img_list]\n",
        "\n",
        "  return img_tfs"
      ],
      "execution_count": null,
      "outputs": []
    },
    {
      "cell_type": "code",
      "metadata": {
        "id": "y3ZEsAGUAvUS"
      },
      "source": [
        "### Load all images, create transforms, and save in output directory\n",
        "\n",
        "# Find the directories in the dataset folder (skip the Jupyter Notebook checkpoints hidden folder)\n",
        "for label in os.listdir(DATASET_PATH):\n",
        "  class_dir = os.path.join(DATASET_PATH, label)\n",
        "  if os.path.isdir(class_dir) and label != \".ipynb_checkpoints\":\n",
        "\n",
        "    # Create output directory\n",
        "    out_path = os.path.join(OUT_PATH, label)\n",
        "    os.makedirs(out_path, exist_ok=True)\n",
        "\n",
        "    # Go through each image in the subfolder\n",
        "    for i, filename in enumerate(os.listdir(class_dir)):\n",
        "\n",
        "      # Skip the Jupyter Notebook checkpoints folder that sometimes gets added\n",
        "      if filename != \".ipynb_checkpoints\":\n",
        "\n",
        "        # Get the root of the filename before the extension\n",
        "        file_root = os.path.splitext(filename)[0]\n",
        "\n",
        "        # Do all transforms for that one image\n",
        "        file_path = os.path.join(DATASET_PATH, label, filename)\n",
        "        img_tfs = create_transforms(file_path)\n",
        "\n",
        "        # Save images to new files in output directory\n",
        "        for i, img in enumerate(img_tfs):\n",
        "\n",
        "          # Create a Pillow image from the Numpy array\n",
        "          img_pil = PIL.Image.fromarray(img)\n",
        "\n",
        "          # Construct filename (<orignal>_<transform_num>.<EXT>)\n",
        "          out_file_path = os.path.join(out_path, file_root + \"_\" + str(i) + IMG_EXT)\n",
        "\n",
        "          # Convert Numpy array to image and save as a file\n",
        "          img_pil = PIL.Image.fromarray(img)\n",
        "          img_pil.save(out_file_path)"
      ],
      "execution_count": null,
      "outputs": []
    },
    {
      "cell_type": "code",
      "metadata": {
        "id": "wWwxvzKxDJ18"
      },
      "source": [
        "### Zip our new dataset (use '!' to call Linux commands)\n",
        "!zip -r -q \"{OUT_ZIP}\" \"{OUT_PATH}\""
      ],
      "execution_count": null,
      "outputs": []
    }
  ]
}
